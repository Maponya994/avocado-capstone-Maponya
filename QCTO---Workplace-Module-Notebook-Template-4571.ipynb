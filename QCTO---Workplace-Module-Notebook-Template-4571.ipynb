{
 "cells": [
  {
   "cell_type": "markdown",
   "metadata": {},
   "source": [
    "# QCTO - Workplace Module\n",
    "\n",
    "### Project Title: Please Insert your Project Title Here\n",
    "#### Done By: Name and Surname\n",
    "\n",
    "© ExploreAI 2024\n",
    "\n",
    "---\n",
    "\n",
    "## Table of Contents\n",
    "\n",
    "<a href=#BC> Background Context</a>\n",
    "\n",
    "<a href=#one>1. Importing Packages</a>\n",
    "\n",
    "<a href=#two>2. Data Collection and Description</a>\n",
    "\n",
    "<a href=#three>3. Loading Data </a>\n",
    "\n",
    "<a href=#four>4. Data Cleaning and Filtering</a>\n",
    "\n",
    "<a href=#five>5. Exploratory Data Analysis (EDA)</a>\n",
    "\n",
    "<a href=#six>6. Modeling </a>\n",
    "\n",
    "<a href=#seven>7. Evaluation and Validation</a>\n",
    "\n",
    "<a href=#eight>8. Final Model</a>\n",
    "\n",
    "<a href=#nine>9. Conclusion and Future Work</a>\n",
    "\n",
    "<a href=#ten>10. References</a>"
   ]
  },
  {
   "cell_type": "markdown",
   "metadata": {},
   "source": [
    "---\n",
    " <a id=\"BC\"></a>\n",
    "## **Background Context**\n",
    "<a href=#cont>Back to Table of Contents</a>\n",
    "\n",
    "* **Purpose:** Introduce the project, outline its goals, and explain its significance.\n",
    "* **Details:** Include information about the problem domain, the specific questions or challenges the project aims to address, and any relevant background information that sets the stage for the work.\n",
    "---"
   ]
  },
  {
   "cell_type": "markdown",
   "metadata": {},
   "source": [
    "## 📌 Problem Statement\n",
    "\n",
    "The avocado industry has experienced fluctuations in prices and sales volumes across regions in the United States. Stakeholders (farmers, distributors, and retailers) need insights into how factors such as sales volume, packaging type, region, and organic vs. conventional production influence the **AveragePrice** of avocados.\n",
    "\n",
    "The primary goal of this project is to **build a regression model** to predict the **Average Avocado Price** using historical data (2015–2023). This model will provide insights into:\n",
    "\n",
    "- How sales volumes and packaging sizes influence price\n",
    "- Whether organic vs conventional type significantly affects price\n",
    "- Regional differences in pricing trends\n",
    "- Seasonal/temporal patterns in avocado prices\n",
    "\n",
    "This predictive capability can help retailers optimize pricing strategies, manage supply chains, and anticipate market fluctuations.\n",
    "\n",
    "## 🌍 Project Landscape\n",
    "\n",
    "### Data\n",
    "- Weekly avocado sales and prices from 2015–2023  \n",
    "- Includes volumes, bag sizes, region, and type (conventional/organic)  \n",
    "\n",
    "### Information\n",
    "- Prices vary by region and season  \n",
    "- Organic avocados tend to be priced higher  \n",
    "- Extreme outliers in volume (some weeks very high, most weeks low)  \n",
    "\n",
    "### Knowledge\n",
    "- Prior studies show demand and seasonality strongly affect fresh produce prices  \n",
    "- Regression models can help quantify feature importance  \n",
    "- Tree-based models may capture non-linear patterns better than linear models  \n",
    "\n",
    "### Risks\n",
    "- Missing data in bag categories  \n",
    "- High variability between regions  \n",
    "- Outliers in sales volumes may skew the model  \n",
    "\n",
    "\n",
    "\n",
    "\n",
    "\n"
   ]
  },
  {
   "cell_type": "markdown",
   "metadata": {},
   "source": [
    "---\n",
    "<a href=#one></a>\n",
    "## **Importing Packages**\n",
    "<a href=#cont>Back to Table of Contents</a>\n",
    "\n",
    "* **Purpose:** Set up the Python environment with necessary libraries and tools.\n",
    "* **Details:** List and import all the Python packages that will be used throughout the project such as Pandas for data manipulation, Matplotlib/Seaborn for visualization, scikit-learn for modeling, etc.\n",
    "---"
   ]
  },
  {
   "cell_type": "code",
   "execution_count": null,
   "metadata": {},
   "outputs": [],
   "source": [
    "#Please use code cells to code in and do not forget to comment your code."
   ]
  },
  {
   "cell_type": "code",
   "execution_count": 23,
   "metadata": {},
   "outputs": [],
   "source": [
    "import pandas as pd\n",
    "import numpy as np \n",
    "import matplotlib.pyplot as plt\n"
   ]
  },
  {
   "cell_type": "markdown",
   "metadata": {},
   "source": [
    "---\n",
    "<a href=#two></a>\n",
    "## **Data Collection and Description**\n",
    "<a href=#cont>Back to Table of Contents</a>\n",
    "\n",
    "* **Purpose:** Describe how the data was collected and provide an overview of its characteristics.\n",
    "* **Details:** Mention sources of the data, the methods used for collection (e.g., APIs, web scraping, datasets from repositories), and a general description of the dataset including size, scope, and types of data available (e.g., numerical, categorical).\n",
    "---"
   ]
  },
  {
   "cell_type": "code",
   "execution_count": 8,
   "metadata": {},
   "outputs": [],
   "source": [
    "#Please use code cells to code in and do not forget to comment your code."
   ]
  },
  {
   "cell_type": "markdown",
   "metadata": {},
   "source": [
    "# 🥑 Avocado Prices & Sales Volume (2015–2023) — Capstone Project\n",
    "\n",
    "## 📌 Project Goal\n",
    "Build a regression model to predict **Average Avocado Prices** based on sales, packaging, region, and type of avocado.\n",
    "\n",
    "---\n",
    "\n",
    "## 📊 Dataset Overview\n",
    "\n",
    "| Feature        | Description                          |\n",
    "|----------------|--------------------------------------|\n",
    "| **Date**       | Time series aspect (weekly data)     |\n",
    "| **AveragePrice** | Target variable for regression      |\n",
    "| **TotalVolume** | Total units of avocados sold        |\n",
    "| **SmallBags**   | Volume in small packaging           |\n",
    "| **LargeBags**   | Volume in large packaging           |\n",
    "| **XLargeBags**  | Volume in extra-large packaging     |\n",
    "| **Region**      | Market location across the U.S.     |\n",
    "| **Type**        | Conventional vs Organic             |"
   ]
  },
  {
   "cell_type": "markdown",
   "metadata": {},
   "source": [
    "---\n",
    "<a href=#three></a>\n",
    "## **Loading Data**\n",
    "<a href=#cont>Back to Table of Contents</a>\n",
    "\n",
    "* **Purpose:** Load the data into the notebook for manipulation and analysis.\n",
    "* **Details:** Show the code used to load the data and display the first few rows to give a sense of what the raw data looks like.\n",
    "---"
   ]
  },
  {
   "cell_type": "code",
   "execution_count": null,
   "metadata": {},
   "outputs": [],
   "source": [
    "#Please use code cells to code in and do not forget to comment your code."
   ]
  },
  {
   "cell_type": "code",
   "execution_count": null,
   "metadata": {},
   "outputs": [
    {
     "name": "stdout",
     "output_type": "stream",
     "text": [
      "         Date  AveragePrice  TotalVolume    plu4046    plu4225   plu4770  \\\n",
      "0  2015-01-04          1.22     40873.28    2819.50   28287.42     49.90   \n",
      "1  2015-01-04          1.79      1373.95      57.42     153.88      0.00   \n",
      "2  2015-01-04          1.00    435021.49  364302.39   23821.16     82.15   \n",
      "3  2015-01-04          1.76      3846.69    1500.15     938.35      0.00   \n",
      "4  2015-01-04          1.08    788025.06   53987.31  552906.04  39995.03   \n",
      "\n",
      "   TotalBags  SmallBags  LargeBags  XLargeBags          type  \\\n",
      "0    9716.46    9186.93     529.53         0.0  conventional   \n",
      "1    1162.65    1162.65       0.00         0.0       organic   \n",
      "2   46815.79   16707.15   30108.64         0.0  conventional   \n",
      "3    1408.19    1071.35     336.84         0.0       organic   \n",
      "4  141136.68  137146.07    3990.61         0.0  conventional   \n",
      "\n",
      "                region  \n",
      "0               Albany  \n",
      "1               Albany  \n",
      "2              Atlanta  \n",
      "3              Atlanta  \n",
      "4  BaltimoreWashington  \n",
      "<class 'pandas.core.frame.DataFrame'>\n",
      "RangeIndex: 53415 entries, 0 to 53414\n",
      "Data columns (total 12 columns):\n",
      " #   Column        Non-Null Count  Dtype  \n",
      "---  ------        --------------  -----  \n",
      " 0   Date          53415 non-null  object \n",
      " 1   AveragePrice  53415 non-null  float64\n",
      " 2   TotalVolume   53415 non-null  float64\n",
      " 3   plu4046       53415 non-null  float64\n",
      " 4   plu4225       53415 non-null  float64\n",
      " 5   plu4770       53415 non-null  float64\n",
      " 6   TotalBags     53415 non-null  float64\n",
      " 7   SmallBags     41025 non-null  float64\n",
      " 8   LargeBags     41025 non-null  float64\n",
      " 9   XLargeBags    41025 non-null  float64\n",
      " 10  type          53415 non-null  object \n",
      " 11  region        53415 non-null  object \n",
      "dtypes: float64(9), object(3)\n",
      "memory usage: 4.9+ MB\n",
      "None\n",
      "       AveragePrice   TotalVolume       plu4046       plu4225       plu4770  \\\n",
      "count  53415.000000  5.341500e+04  5.341500e+04  5.341500e+04  5.341500e+04   \n",
      "mean       1.428910  8.694474e+05  2.982707e+05  2.222170e+05  2.053195e+04   \n",
      "std        0.393116  3.545274e+06  1.307669e+06  9.554624e+05  1.040977e+05   \n",
      "min        0.440000  8.456000e+01  0.000000e+00  0.000000e+00  0.000000e+00   \n",
      "25%        1.119091  1.626465e+04  6.947250e+02  2.120800e+03  0.000000e+00   \n",
      "50%        1.400000  1.203525e+05  1.458058e+04  1.751663e+04  9.005000e+01   \n",
      "75%        1.690000  4.542380e+05  1.287924e+05  9.351560e+04  3.599735e+03   \n",
      "max        3.440830  6.103446e+07  2.544720e+07  2.047057e+07  2.860025e+06   \n",
      "\n",
      "          TotalBags     SmallBags     LargeBags     XLargeBags  \n",
      "count  5.341500e+04  4.102500e+04  4.102500e+04   41025.000000  \n",
      "mean   2.175083e+05  1.039222e+05  2.331316e+04    2731.811796  \n",
      "std    8.676947e+05  5.692608e+05  1.496622e+05   22589.096454  \n",
      "min    0.000000e+00  0.000000e+00  0.000000e+00       0.000000  \n",
      "25%    7.846520e+03  0.000000e+00  0.000000e+00       0.000000  \n",
      "50%    3.695310e+04  6.945800e+02  0.000000e+00       0.000000  \n",
      "75%    1.110146e+05  3.795298e+04  2.814920e+03       0.000000  \n",
      "max    1.629830e+07  1.256716e+07  4.324231e+06  679586.800000  \n"
     ]
    }
   ],
   "source": [
    "import pandas as pd\n",
    "\n",
    "# Load the dataset\n",
    "df = pd.read_csv(\"Avocado_HassAvocadoBoard_20152023v1.0.1.csv\")\n",
    "\n",
    "# Quick look at the data\n",
    "print(df.head())\n",
    "print(df.info())\n",
    "print(df.describe())"
   ]
  },
  {
   "cell_type": "markdown",
   "metadata": {},
   "source": [
    "---\n",
    "<a href=#four></a>\n",
    "## **Data Cleaning and Filtering**\n",
    "<a href=#cont>Back to Table of Contents</a>\n",
    "\n",
    "* **Purpose:** Prepare the data for analysis by cleaning and filtering.\n",
    "* **Details:** Include steps for handling missing values, removing outliers, correcting errors, and possibly reducing the data (filtering based on certain criteria or features).\n",
    "---"
   ]
  },
  {
   "cell_type": "code",
   "execution_count": null,
   "metadata": {},
   "outputs": [],
   "source": [
    "#Please use code cells to code in and do not forget to comment your code."
   ]
  },
  {
   "cell_type": "code",
   "execution_count": null,
   "metadata": {},
   "outputs": [
    {
     "name": "stdout",
     "output_type": "stream",
     "text": [
      "Original shape: (53415, 12)\n",
      "Copied shape: (53415, 12)\n"
     ]
    }
   ],
   "source": [
    "df_clean = df.copy() # = Working on a copy (`df.copy()`) to avoid accidental changes.\n",
    "\n",
    "# Quick check to confirm it worked\n",
    "print(\"Original shape:\", df.shape)\n",
    "print(\"Copied shape:\", df_clean.shape)"
   ]
  },
  {
   "cell_type": "code",
   "execution_count": 16,
   "metadata": {},
   "outputs": [
    {
     "name": "stdout",
     "output_type": "stream",
     "text": [
      "Date                0\n",
      "AveragePrice        0\n",
      "TotalVolume         0\n",
      "plu4046             0\n",
      "plu4225             0\n",
      "plu4770             0\n",
      "TotalBags           0\n",
      "SmallBags       12390\n",
      "LargeBags       12390\n",
      "XLargeBags      12390\n",
      "type                0\n",
      "region              0\n",
      "dtype: int64\n"
     ]
    },
    {
     "data": {
      "text/html": [
       "<div>\n",
       "<style scoped>\n",
       "    .dataframe tbody tr th:only-of-type {\n",
       "        vertical-align: middle;\n",
       "    }\n",
       "\n",
       "    .dataframe tbody tr th {\n",
       "        vertical-align: top;\n",
       "    }\n",
       "\n",
       "    .dataframe thead th {\n",
       "        text-align: right;\n",
       "    }\n",
       "</style>\n",
       "<table border=\"1\" class=\"dataframe\">\n",
       "  <thead>\n",
       "    <tr style=\"text-align: right;\">\n",
       "      <th></th>\n",
       "      <th>Date</th>\n",
       "      <th>AveragePrice</th>\n",
       "      <th>TotalVolume</th>\n",
       "      <th>plu4046</th>\n",
       "      <th>plu4225</th>\n",
       "      <th>plu4770</th>\n",
       "      <th>TotalBags</th>\n",
       "      <th>SmallBags</th>\n",
       "      <th>LargeBags</th>\n",
       "      <th>XLargeBags</th>\n",
       "      <th>type</th>\n",
       "      <th>region</th>\n",
       "    </tr>\n",
       "  </thead>\n",
       "  <tbody>\n",
       "    <tr>\n",
       "      <th>41025</th>\n",
       "      <td>2021-12-05</td>\n",
       "      <td>1.065699</td>\n",
       "      <td>134044.83</td>\n",
       "      <td>44736.90</td>\n",
       "      <td>67915.51</td>\n",
       "      <td>698.07</td>\n",
       "      <td>20694.35</td>\n",
       "      <td>NaN</td>\n",
       "      <td>NaN</td>\n",
       "      <td>NaN</td>\n",
       "      <td>conventional</td>\n",
       "      <td>Albany</td>\n",
       "    </tr>\n",
       "    <tr>\n",
       "      <th>41026</th>\n",
       "      <td>2021-12-05</td>\n",
       "      <td>1.636389</td>\n",
       "      <td>2993.77</td>\n",
       "      <td>224.39</td>\n",
       "      <td>331.71</td>\n",
       "      <td>0.00</td>\n",
       "      <td>2437.68</td>\n",
       "      <td>NaN</td>\n",
       "      <td>NaN</td>\n",
       "      <td>NaN</td>\n",
       "      <td>organic</td>\n",
       "      <td>Albany</td>\n",
       "    </tr>\n",
       "    <tr>\n",
       "      <th>41027</th>\n",
       "      <td>2021-12-05</td>\n",
       "      <td>1.048255</td>\n",
       "      <td>682572.64</td>\n",
       "      <td>443959.42</td>\n",
       "      <td>125018.50</td>\n",
       "      <td>2508.17</td>\n",
       "      <td>111086.55</td>\n",
       "      <td>NaN</td>\n",
       "      <td>NaN</td>\n",
       "      <td>NaN</td>\n",
       "      <td>conventional</td>\n",
       "      <td>Atlanta</td>\n",
       "    </tr>\n",
       "    <tr>\n",
       "      <th>41028</th>\n",
       "      <td>2021-12-05</td>\n",
       "      <td>1.749787</td>\n",
       "      <td>28007.72</td>\n",
       "      <td>7286.25</td>\n",
       "      <td>10072.64</td>\n",
       "      <td>0.00</td>\n",
       "      <td>10648.82</td>\n",
       "      <td>NaN</td>\n",
       "      <td>NaN</td>\n",
       "      <td>NaN</td>\n",
       "      <td>organic</td>\n",
       "      <td>Atlanta</td>\n",
       "    </tr>\n",
       "    <tr>\n",
       "      <th>41029</th>\n",
       "      <td>2021-12-05</td>\n",
       "      <td>1.345853</td>\n",
       "      <td>817887.00</td>\n",
       "      <td>207339.26</td>\n",
       "      <td>223715.32</td>\n",
       "      <td>8854.06</td>\n",
       "      <td>377978.36</td>\n",
       "      <td>NaN</td>\n",
       "      <td>NaN</td>\n",
       "      <td>NaN</td>\n",
       "      <td>conventional</td>\n",
       "      <td>BaltimoreWashington</td>\n",
       "    </tr>\n",
       "    <tr>\n",
       "      <th>41030</th>\n",
       "      <td>2021-12-05</td>\n",
       "      <td>1.788582</td>\n",
       "      <td>45362.95</td>\n",
       "      <td>933.99</td>\n",
       "      <td>6841.41</td>\n",
       "      <td>1.15</td>\n",
       "      <td>37586.39</td>\n",
       "      <td>NaN</td>\n",
       "      <td>NaN</td>\n",
       "      <td>NaN</td>\n",
       "      <td>organic</td>\n",
       "      <td>BaltimoreWashington</td>\n",
       "    </tr>\n",
       "    <tr>\n",
       "      <th>41031</th>\n",
       "      <td>2021-12-05</td>\n",
       "      <td>1.011214</td>\n",
       "      <td>272998.83</td>\n",
       "      <td>174602.93</td>\n",
       "      <td>26025.22</td>\n",
       "      <td>2231.22</td>\n",
       "      <td>70139.45</td>\n",
       "      <td>NaN</td>\n",
       "      <td>NaN</td>\n",
       "      <td>NaN</td>\n",
       "      <td>conventional</td>\n",
       "      <td>BirminghamMontgomery</td>\n",
       "    </tr>\n",
       "    <tr>\n",
       "      <th>41032</th>\n",
       "      <td>2021-12-05</td>\n",
       "      <td>1.511550</td>\n",
       "      <td>11563.76</td>\n",
       "      <td>2963.42</td>\n",
       "      <td>743.50</td>\n",
       "      <td>0.00</td>\n",
       "      <td>7856.84</td>\n",
       "      <td>NaN</td>\n",
       "      <td>NaN</td>\n",
       "      <td>NaN</td>\n",
       "      <td>organic</td>\n",
       "      <td>BirminghamMontgomery</td>\n",
       "    </tr>\n",
       "    <tr>\n",
       "      <th>41033</th>\n",
       "      <td>2021-12-05</td>\n",
       "      <td>1.269260</td>\n",
       "      <td>100981.94</td>\n",
       "      <td>55998.08</td>\n",
       "      <td>10623.40</td>\n",
       "      <td>7934.13</td>\n",
       "      <td>26426.33</td>\n",
       "      <td>NaN</td>\n",
       "      <td>NaN</td>\n",
       "      <td>NaN</td>\n",
       "      <td>conventional</td>\n",
       "      <td>Boise</td>\n",
       "    </tr>\n",
       "    <tr>\n",
       "      <th>41034</th>\n",
       "      <td>2021-12-05</td>\n",
       "      <td>1.874634</td>\n",
       "      <td>6775.81</td>\n",
       "      <td>816.59</td>\n",
       "      <td>3204.39</td>\n",
       "      <td>0.00</td>\n",
       "      <td>2754.82</td>\n",
       "      <td>NaN</td>\n",
       "      <td>NaN</td>\n",
       "      <td>NaN</td>\n",
       "      <td>organic</td>\n",
       "      <td>Boise</td>\n",
       "    </tr>\n",
       "  </tbody>\n",
       "</table>\n",
       "</div>"
      ],
      "text/plain": [
       "             Date  AveragePrice  TotalVolume    plu4046    plu4225  plu4770  \\\n",
       "41025  2021-12-05      1.065699    134044.83   44736.90   67915.51   698.07   \n",
       "41026  2021-12-05      1.636389      2993.77     224.39     331.71     0.00   \n",
       "41027  2021-12-05      1.048255    682572.64  443959.42  125018.50  2508.17   \n",
       "41028  2021-12-05      1.749787     28007.72    7286.25   10072.64     0.00   \n",
       "41029  2021-12-05      1.345853    817887.00  207339.26  223715.32  8854.06   \n",
       "41030  2021-12-05      1.788582     45362.95     933.99    6841.41     1.15   \n",
       "41031  2021-12-05      1.011214    272998.83  174602.93   26025.22  2231.22   \n",
       "41032  2021-12-05      1.511550     11563.76    2963.42     743.50     0.00   \n",
       "41033  2021-12-05      1.269260    100981.94   55998.08   10623.40  7934.13   \n",
       "41034  2021-12-05      1.874634      6775.81     816.59    3204.39     0.00   \n",
       "\n",
       "       TotalBags  SmallBags  LargeBags  XLargeBags          type  \\\n",
       "41025   20694.35        NaN        NaN         NaN  conventional   \n",
       "41026    2437.68        NaN        NaN         NaN       organic   \n",
       "41027  111086.55        NaN        NaN         NaN  conventional   \n",
       "41028   10648.82        NaN        NaN         NaN       organic   \n",
       "41029  377978.36        NaN        NaN         NaN  conventional   \n",
       "41030   37586.39        NaN        NaN         NaN       organic   \n",
       "41031   70139.45        NaN        NaN         NaN  conventional   \n",
       "41032    7856.84        NaN        NaN         NaN       organic   \n",
       "41033   26426.33        NaN        NaN         NaN  conventional   \n",
       "41034    2754.82        NaN        NaN         NaN       organic   \n",
       "\n",
       "                     region  \n",
       "41025                Albany  \n",
       "41026                Albany  \n",
       "41027               Atlanta  \n",
       "41028               Atlanta  \n",
       "41029   BaltimoreWashington  \n",
       "41030   BaltimoreWashington  \n",
       "41031  BirminghamMontgomery  \n",
       "41032  BirminghamMontgomery  \n",
       "41033                 Boise  \n",
       "41034                 Boise  "
      ]
     },
     "execution_count": 16,
     "metadata": {},
     "output_type": "execute_result"
    }
   ],
   "source": [
    "# Count missing values in each column\n",
    "print(df_clean.isnull().sum())\n",
    "\n",
    "\n",
    "df_clean[df_clean[\"SmallBags\"].isnull()].head(10)\n",
    "\n"
   ]
  },
  {
   "cell_type": "code",
   "execution_count": 15,
   "metadata": {},
   "outputs": [
    {
     "name": "stdout",
     "output_type": "stream",
     "text": [
      "Total rows: 53415\n",
      "Missing values:\n",
      " SmallBags     12390\n",
      "LargeBags     12390\n",
      "XLargeBags    12390\n",
      "dtype: int64\n",
      "Missing percentage:\n",
      " SmallBags     23.195732\n",
      "LargeBags     23.195732\n",
      "XLargeBags    23.195732\n",
      "dtype: float64\n"
     ]
    }
   ],
   "source": [
    "# Total rows\n",
    "total_rows = len(df_clean)\n",
    "\n",
    "# Missing counts\n",
    "missing_counts = df_clean[[\"SmallBags\", \"LargeBags\", \"XLargeBags\"]].isnull().sum()\n",
    "\n",
    "# Missing percentages\n",
    "missing_percent = (missing_counts / total_rows) * 100\n",
    "\n",
    "print(\"Total rows:\", total_rows)\n",
    "print(\"Missing values:\\n\", missing_counts)\n",
    "print(\"Missing percentage:\\n\", missing_percent)\n"
   ]
  },
  {
   "cell_type": "markdown",
   "metadata": {},
   "source": [
    "##  Handling Missing Values\n",
    "\n",
    "From our inspection, we found that **about 23% of the dataset has missing values** in the `SmallBags`, `LargeBags`, and `XLargeBags` columns.  \n",
    "\n",
    "Dropping these rows would remove nearly a quarter of our data, which is too risky and may cause us to lose valuable insights.  \n",
    "\n",
    "➡️ **Decision:** For now, we will fill these missing values with `0`, assuming that no sales were recorded for those bag categories in those weeks or regions.\n"
   ]
  },
  {
   "cell_type": "code",
   "execution_count": 20,
   "metadata": {},
   "outputs": [
    {
     "name": "stdout",
     "output_type": "stream",
     "text": [
      "SmallBags     0\n",
      "LargeBags     0\n",
      "XLargeBags    0\n",
      "dtype: int64\n"
     ]
    }
   ],
   "source": [
    "print(df_clean[[\"SmallBags\", \"LargeBags\", \"XLargeBags\"]].isnull().sum())"
   ]
  },
  {
   "cell_type": "code",
   "execution_count": 22,
   "metadata": {},
   "outputs": [
    {
     "name": "stdout",
     "output_type": "stream",
     "text": [
      "       AveragePrice   TotalVolume     TotalBags\n",
      "count  53415.000000  5.341500e+04  5.341500e+04\n",
      "mean       1.428910  8.694474e+05  2.175083e+05\n",
      "std        0.393116  3.545274e+06  8.676947e+05\n",
      "min        0.440000  8.456000e+01  0.000000e+00\n",
      "25%        1.119091  1.626465e+04  7.846520e+03\n",
      "50%        1.400000  1.203525e+05  3.695310e+04\n",
      "75%        1.690000  4.542380e+05  1.110146e+05\n",
      "max        3.440830  6.103446e+07  1.629830e+07\n"
     ]
    },
    {
     "data": {
      "image/png": "[encoded data removed]",
      "text/plain": [
       "<Figure size 1200x500 with 2 Axes>"
      ]
     },
     "metadata": {},
     "output_type": "display_data"
    }
   ],
   "source": [
    "import matplotlib.pyplot as plt\n",
    "\n",
    "# Step 1: Summary stats for key numeric columns\n",
    "print(df_clean[[\"AveragePrice\", \"TotalVolume\", \"TotalBags\"]].describe())\n",
    "\n",
    "# Step 2: Boxplots to visualize outliers\n",
    "plt.figure(figsize=(12,5))\n",
    "\n",
    "plt.subplot(1, 2, 1)\n",
    "df_clean.boxplot(column=\"AveragePrice\")\n",
    "plt.title(\"Outliers in AveragePrice\")\n",
    "\n",
    "plt.subplot(1, 2, 2)\n",
    "df_clean.boxplot(column=\"TotalVolume\")\n",
    "plt.title(\"Outliers in TotalVolume\")\n",
    "\n",
    "plt.tight_layout()\n",
    "plt.show()"
   ]
  },
  {
   "cell_type": "markdown",
   "metadata": {},
   "source": [
    "## Log Transformation of TotalVolume\n",
    "\n",
    "The TotalVolume column has some very large values that make the data skewed.  \n",
    "To reduce this effect, we will create a new column using a log transformation.  \n",
    "This helps to bring the values onto a smaller scale without removing any rows."
   ]
  },
  {
   "cell_type": "code",
   "execution_count": 24,
   "metadata": {},
   "outputs": [
    {
     "name": "stdout",
     "output_type": "stream",
     "text": [
      "   TotalVolume  TotalVolume_log\n",
      "0     40873.28        10.618256\n",
      "1      1373.95         7.226173\n",
      "2    435021.49        12.983153\n",
      "3      3846.69         8.255228\n",
      "4    788025.06        13.577286\n"
     ]
    }
   ],
   "source": [
    "import numpy as np\n",
    "\n",
    "# Create a log transformed version of TotalVolume\n",
    "df_clean[\"TotalVolume_log\"] = np.log1p(df_clean[\"TotalVolume\"])\n",
    "\n",
    "# Check the new column\n",
    "print(df_clean[[\"TotalVolume\", \"TotalVolume_log\"]].head())\n"
   ]
  },
  {
   "cell_type": "markdown",
   "metadata": {},
   "source": [
    "## Histogram of TotalVolume before and after log transformation\n",
    "\n",
    "We will plot the original TotalVolume and the log transformed version.  \n",
    "This will help us see how the transformation reduces skewness.\n"
   ]
  },
  {
   "cell_type": "code",
   "execution_count": 25,
   "metadata": {},
   "outputs": [
    {
     "data": {
      "image/png": "[encoded data removed]",
      "text/plain": [
       "<Figure size 1200x500 with 2 Axes>"
      ]
     },
     "metadata": {},
     "output_type": "display_data"
    }
   ],
   "source": [
    "import matplotlib.pyplot as plt\n",
    "\n",
    "plt.figure(figsize=(12,5))\n",
    "\n",
    "# Original TotalVolume\n",
    "plt.subplot(1, 2, 1)\n",
    "plt.hist(df_clean[\"TotalVolume\"], bins=50, edgecolor=\"black\")\n",
    "plt.title(\"TotalVolume (original)\")\n",
    "\n",
    "# Log-transformed TotalVolume\n",
    "plt.subplot(1, 2, 2)\n",
    "plt.hist(df_clean[\"TotalVolume_log\"], bins=50, edgecolor=\"black\")\n",
    "plt.title(\"TotalVolume (log transformed)\")\n",
    "\n",
    "plt.tight_layout()\n",
    "plt.show()\n"
   ]
  },
  {
   "cell_type": "code",
   "execution_count": 49,
   "metadata": {},
   "outputs": [
    {
     "name": "stdout",
     "output_type": "stream",
     "text": [
      "            Date  Year  Month  Week\n",
      "53410 2023-12-03  2023     12    48\n",
      "53411 2023-12-03  2023     12    48\n",
      "53412 2023-12-03  2023     12    48\n",
      "53413 2023-12-03  2023     12    48\n",
      "53414 2023-12-03  2023     12    48\n"
     ]
    }
   ],
   "source": [
    "# Change Date into datetime so we can work with it\n",
    "df_clean[\"Date\"] = pd.to_datetime(df_clean[\"Date\"], errors=\"coerce\")\n",
    "\n",
    "# Make new time columns (useful for time-based analysis later)\n",
    "df_clean[\"Year\"] = df_clean[\"Date\"].dt.year\n",
    "df_clean[\"Month\"] = df_clean[\"Date\"].dt.month\n",
    "df_clean[\"Week\"] = df_clean[\"Date\"].dt.isocalendar().week.astype(int)\n",
    "\n",
    "# Look at last 10 rows to confirm\n",
    "print(df_clean[[\"Date\", \"Year\", \"Month\", \"Week\"]].tail(5))\n",
    "\n"
   ]
  },
  {
   "cell_type": "code",
   "execution_count": 52,
   "metadata": {},
   "outputs": [
    {
     "name": "stdout",
     "output_type": "stream",
     "text": [
      "           type  type_encoded\n",
      "0  conventional             0\n",
      "1       organic             1\n",
      "2  conventional             0\n",
      "3       organic             1\n",
      "4  conventional             0\n",
      "          type  type_encoded\n",
      "53410  organic             1\n",
      "53411  organic             1\n",
      "53412  organic             1\n",
      "53413  organic             1\n",
      "53414  organic             1\n"
     ]
    }
   ],
   "source": [
    "# Change type into numbers so model can read it (0 = conventional, 1 = organic)\n",
    "df_clean[\"type_encoded\"] = df_clean[\"type\"].map({\"conventional\": 0, \"organic\": 1})\n",
    "\n",
    "# Look at first 10 rows to confirm\n",
    "print(df_clean[[\"type\", \"type_encoded\"]].head(5))\n",
    "\n",
    "# Look at last 10 rows to confirm\n",
    "print(df_clean[[\"type\", \"type_encoded\"]].tail(5))\n"
   ]
  },
  {
   "cell_type": "code",
   "execution_count": null,
   "metadata": {},
   "outputs": [
    {
     "name": "stdout",
     "output_type": "stream",
     "text": [
      "['region_Atlanta', 'region_BaltimoreWashington', 'region_BirminghamMontgomery', 'region_Boise', 'region_Boston', 'region_BuffaloRochester', 'region_California', 'region_Charlotte', 'region_Chicago', 'region_CincinnatiDayton']\n",
      "Number of region columns: 59\n"
     ]
    }
   ],
   "source": [
    "print([col for col in df_clean.columns if col.startswith(\"region_\")][:10])\n",
    "print(\"Number of region columns:\", len([col for col in df_clean.columns if col.startswith(\"region_\")]))\n",
    "\n",
    "#Proof that i had one hot encoded the region. the code was deleted so i cannot run again as region has been dropped. \n"
   ]
  },
  {
   "cell_type": "code",
   "execution_count": 56,
   "metadata": {},
   "outputs": [],
   "source": [
    "# 1) Save a clean copy\n",
    "df_clean.to_csv(\"avocado_clean.csv\", index=False)\n"
   ]
  },
  {
   "cell_type": "markdown",
   "metadata": {},
   "source": [
    "---\n",
    "<a href=#five></a>\n",
    "## **Exploratory Data Analysis (EDA)**\n",
    "<a href=#cont>Back to Table of Contents</a>\n",
    "\n",
    "* **Purpose:** Explore and visualize the data to uncover patterns, trends, and relationships.\n",
    "* **Details:** Use statistics and visualizations to explore the data. This may include histograms, box plots, scatter plots, and correlation matrices. Discuss any significant findings.\n",
    "---\n"
   ]
  },
  {
   "cell_type": "code",
   "execution_count": null,
   "metadata": {},
   "outputs": [],
   "source": [
    "#Please use code cells to code in and do not forget to comment your code."
   ]
  },
  {
   "cell_type": "markdown",
   "metadata": {},
   "source": [
    "---\n",
    "<a href=#six></a>\n",
    "## **Modeling**\n",
    "<a href=#cont>Back to Table of Contents</a>\n",
    "\n",
    "* **Purpose:** Develop and train predictive or statistical models.\n",
    "* **Details:** Describe the choice of models, feature selection and engineering processes, and show how the models are trained. Include code for setting up the models and explanations of the model parameters.\n",
    "---\n"
   ]
  },
  {
   "cell_type": "code",
   "execution_count": null,
   "metadata": {},
   "outputs": [],
   "source": [
    "#Please use code cells to code in and do not forget to comment your code."
   ]
  },
  {
   "cell_type": "markdown",
   "metadata": {},
   "source": [
    "---\n",
    "<a href=#seven></a>\n",
    "## **Evaluation and Validation**\n",
    "<a href=#cont>Back to Table of Contents</a>\n",
    "\n",
    "* **Purpose:** Evaluate and validate the effectiveness and accuracy of the models.\n",
    "* **Details:** Present metrics used to evaluate the models, such as accuracy, precision, recall, F1-score, etc. Discuss validation techniques employed, such as cross-validation or train/test split.\n",
    "---"
   ]
  },
  {
   "cell_type": "code",
   "execution_count": null,
   "metadata": {},
   "outputs": [],
   "source": [
    "#Please use code cells to code in and do not forget to comment your code."
   ]
  },
  {
   "cell_type": "markdown",
   "metadata": {},
   "source": [
    "---\n",
    "<a href=#eight></a>\n",
    "## **Final Model**\n",
    "<a href=#cont>Back to Table of Contents</a>\n",
    "\n",
    "* **Purpose:** Present the final model and its performance.\n",
    "* **Details:** Highlight the best-performing model and discuss its configuration, performance, and why it was chosen over others.\n",
    "---\n"
   ]
  },
  {
   "cell_type": "code",
   "execution_count": null,
   "metadata": {},
   "outputs": [],
   "source": [
    "#Please use code cells to code in and do not forget to comment your code."
   ]
  },
  {
   "cell_type": "markdown",
   "metadata": {},
   "source": [
    "---\n",
    "<a href=#nine></a>\n",
    "## **Conclusion and Future Work**\n",
    "<a href=#cont>Back to Table of Contents</a>\n",
    "\n",
    "* **Purpose:** Summarize the findings and discuss future directions.\n",
    "* **Details:** Conclude with a summary of the results, insights gained, limitations of the study, and suggestions for future projects or improvements in methodology or data collection.\n",
    "---\n"
   ]
  },
  {
   "cell_type": "code",
   "execution_count": null,
   "metadata": {},
   "outputs": [],
   "source": [
    "#Please use code cells to code in and do not forget to comment your code."
   ]
  },
  {
   "cell_type": "markdown",
   "metadata": {},
   "source": [
    "---\n",
    "<a href=#ten></a>\n",
    "## **References**\n",
    "<a href=#cont>Back to Table of Contents</a>\n",
    "\n",
    "* **Purpose:** Provide citations and sources of external content.\n",
    "* **Details:** List all the references and sources consulted during the project, including data sources, research papers, and documentation for tools and libraries used.\n",
    "---"
   ]
  },
  {
   "cell_type": "code",
   "execution_count": null,
   "metadata": {},
   "outputs": [],
   "source": [
    "#Please use code cells to code in and do not forget to comment your code."
   ]
  },
  {
   "cell_type": "markdown",
   "metadata": {},
   "source": [
    "## Additional Sections to Consider\n",
    "\n",
    "* ### Appendix: \n",
    "For any additional code, detailed tables, or extended data visualizations that are supplementary to the main content.\n",
    "\n",
    "* ### Contributors: \n",
    "If this is a group project, list the contributors and their roles or contributions to the project.\n"
   ]
  }
 ],
 "metadata": {
  "kernelspec": {
   "display_name": "Python 3",
   "language": "python",
   "name": "python3"
  },
  "language_info": {
   "codemirror_mode": {
    "name": "ipython",
    "version": 3
   },
   "file_extension": ".py",
   "mimetype": "text/x-python",
   "name": "python",
   "nbconvert_exporter": "python",
   "pygments_lexer": "ipython3",
   "version": "3.13.7"
  },
  "orig_nbformat": 4
 },
 "nbformat": 4,
 "nbformat_minor": 2
}
